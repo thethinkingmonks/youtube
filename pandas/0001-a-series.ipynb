{
 "cells": [
  {
   "cell_type": "markdown",
   "id": "3ae58815",
   "metadata": {},
   "source": [
    "### Installation"
   ]
  },
  {
   "cell_type": "code",
   "execution_count": 5,
   "id": "0774fb89",
   "metadata": {},
   "outputs": [
    {
     "name": "stdout",
     "output_type": "stream",
     "text": [
      "Requirement already satisfied: pandas in c:\\thinkingmonks\\repos\\.venv\\lib\\site-packages (2.2.3)\n",
      "Requirement already satisfied: numpy>=1.26.0 in c:\\thinkingmonks\\repos\\.venv\\lib\\site-packages (from pandas) (2.2.6)\n",
      "Requirement already satisfied: python-dateutil>=2.8.2 in c:\\thinkingmonks\\repos\\.venv\\lib\\site-packages (from pandas) (2.9.0.post0)\n",
      "Requirement already satisfied: pytz>=2020.1 in c:\\thinkingmonks\\repos\\.venv\\lib\\site-packages (from pandas) (2025.2)\n",
      "Requirement already satisfied: tzdata>=2022.7 in c:\\thinkingmonks\\repos\\.venv\\lib\\site-packages (from pandas) (2025.2)\n",
      "Requirement already satisfied: six>=1.5 in c:\\thinkingmonks\\repos\\.venv\\lib\\site-packages (from python-dateutil>=2.8.2->pandas) (1.17.0)\n"
     ]
    }
   ],
   "source": [
    "!pip install pandas"
   ]
  },
  {
   "cell_type": "code",
   "execution_count": 6,
   "id": "7511d47e",
   "metadata": {},
   "outputs": [],
   "source": [
    "import pandas as pd\n",
    "import numpy as np"
   ]
  },
  {
   "cell_type": "markdown",
   "id": "e75630bf",
   "metadata": {},
   "source": [
    "### List"
   ]
  },
  {
   "cell_type": "code",
   "execution_count": 7,
   "id": "e4615dda",
   "metadata": {},
   "outputs": [
    {
     "data": {
      "text/plain": [
       "0    1\n",
       "1    2\n",
       "2    3\n",
       "3    4\n",
       "4    5\n",
       "dtype: int64"
      ]
     },
     "execution_count": 7,
     "metadata": {},
     "output_type": "execute_result"
    }
   ],
   "source": [
    "data = [1,2,3,4,5]\n",
    "s1 = pd.Series(data)\n",
    "s1"
   ]
  },
  {
   "cell_type": "code",
   "execution_count": 8,
   "id": "7fb1008d",
   "metadata": {},
   "outputs": [
    {
     "data": {
      "text/plain": [
       "0    1.5\n",
       "1    2.3\n",
       "2    3.0\n",
       "3    4.0\n",
       "4    5.4\n",
       "dtype: float64"
      ]
     },
     "execution_count": 8,
     "metadata": {},
     "output_type": "execute_result"
    }
   ],
   "source": [
    "data = [1.5,2.3,3,4,5.4]\n",
    "s2 = pd.Series(data)\n",
    "s2"
   ]
  },
  {
   "cell_type": "code",
   "execution_count": 9,
   "id": "652ab184",
   "metadata": {},
   "outputs": [
    {
     "data": {
      "text/plain": [
       "0    1\n",
       "1    2\n",
       "2    3\n",
       "3    4\n",
       "4    5\n",
       "dtype: int64"
      ]
     },
     "execution_count": 9,
     "metadata": {},
     "output_type": "execute_result"
    }
   ],
   "source": [
    "data = np.array([1,2,3,4,5])\n",
    "s3 = pd.Series(data)\n",
    "s3"
   ]
  },
  {
   "cell_type": "code",
   "execution_count": null,
   "id": "313e3c33",
   "metadata": {},
   "outputs": [
    {
     "data": {
      "text/plain": [
       "col1    1\n",
       "col2    2\n",
       "col3    3\n",
       "dtype: int64"
      ]
     },
     "execution_count": 10,
     "metadata": {},
     "output_type": "execute_result"
    }
   ],
   "source": [
    "data = {'col1': 1, 'col2': 2, 'col3': 3}\n",
    "s4 = pd.Series(data)\n",
    "s4"
   ]
  },
  {
   "cell_type": "code",
   "execution_count": 11,
   "id": "90137e98",
   "metadata": {},
   "outputs": [
    {
     "data": {
      "text/plain": [
       "col1    1.0\n",
       "col2    2.5\n",
       "col3    3.0\n",
       "dtype: float64"
      ]
     },
     "execution_count": 11,
     "metadata": {},
     "output_type": "execute_result"
    }
   ],
   "source": [
    "data = {'col1': 1, 'col2': 2.5, 'col3': 3}\n",
    "s5 = pd.Series(data)\n",
    "s5"
   ]
  },
  {
   "cell_type": "code",
   "execution_count": 15,
   "id": "9d947225",
   "metadata": {},
   "outputs": [
    {
     "data": {
      "text/plain": [
       "a    False\n",
       "b    False\n",
       "c    False\n",
       "dtype: bool"
      ]
     },
     "execution_count": 15,
     "metadata": {},
     "output_type": "execute_result"
    }
   ],
   "source": [
    "s6 = pd.Series(False, index=['a', 'b', 'c'])\n",
    "s6"
   ]
  },
  {
   "cell_type": "code",
   "execution_count": 16,
   "id": "99da6cd2",
   "metadata": {},
   "outputs": [
    {
     "data": {
      "text/plain": [
       "a1    5\n",
       "b1    6\n",
       "c1    7\n",
       "dtype: int64"
      ]
     },
     "execution_count": 16,
     "metadata": {},
     "output_type": "execute_result"
    }
   ],
   "source": [
    "s6 = pd.Series([5,6,7], index=['a1', 'b1', 'c1'])\n",
    "s6"
   ]
  },
  {
   "cell_type": "code",
   "execution_count": 20,
   "id": "a0dd998f",
   "metadata": {},
   "outputs": [
    {
     "data": {
      "text/plain": [
       "2025-05-29    1\n",
       "2025-05-30    2\n",
       "2025-05-31    3\n",
       "Freq: D, dtype: int64"
      ]
     },
     "execution_count": 20,
     "metadata": {},
     "output_type": "execute_result"
    }
   ],
   "source": [
    "s7 = pd.Series([1, 2, 3], index=pd.date_range('2025-05-29', periods=3))\n",
    "s7"
   ]
  },
  {
   "cell_type": "code",
   "execution_count": 23,
   "id": "8c397147",
   "metadata": {},
   "outputs": [
    {
     "data": {
      "text/plain": [
       "0    0\n",
       "1    2\n",
       "2    4\n",
       "dtype: int64"
      ]
     },
     "execution_count": 23,
     "metadata": {},
     "output_type": "execute_result"
    }
   ],
   "source": [
    "data = [x*2 for x in range(3)]\n",
    "s8 = pd.Series(data)\n",
    "s8"
   ]
  },
  {
   "cell_type": "code",
   "execution_count": 27,
   "id": "eacde971",
   "metadata": {},
   "outputs": [
    {
     "data": {
      "text/plain": [
       "a    1.5\n",
       "b    2.5\n",
       "c    3.5\n",
       "dtype: float64"
      ]
     },
     "execution_count": 27,
     "metadata": {},
     "output_type": "execute_result"
    }
   ],
   "source": [
    "data = [1.5, 2.5, 3.5]\n",
    "s9 = pd.Series(data, index=['a', 'b', 'c'])\n",
    "s9"
   ]
  },
  {
   "cell_type": "code",
   "execution_count": 28,
   "id": "af925fb8",
   "metadata": {},
   "outputs": [
    {
     "data": {
      "text/plain": [
       "a    1.5\n",
       "b    2.5\n",
       "c    3.5\n",
       "dtype: float32"
      ]
     },
     "execution_count": 28,
     "metadata": {},
     "output_type": "execute_result"
    }
   ],
   "source": [
    "data = [1.5, 2.5, 3.5]\n",
    "s10 = pd.Series(data, index=['a', 'b', 'c'], dtype='float32')\n",
    "s10"
   ]
  },
  {
   "cell_type": "code",
   "execution_count": 31,
   "id": "6c62bccd",
   "metadata": {},
   "outputs": [
    {
     "data": {
      "text/plain": [
       "0    a\n",
       "1    b\n",
       "2    c\n",
       "dtype: object"
      ]
     },
     "execution_count": 31,
     "metadata": {},
     "output_type": "execute_result"
    }
   ],
   "source": [
    "s11 = pd.Series(['a', 'b', 'c'])\n",
    "s11"
   ]
  },
  {
   "cell_type": "code",
   "execution_count": 33,
   "id": "b00dbb07",
   "metadata": {},
   "outputs": [
    {
     "data": {
      "text/plain": [
       "0    a\n",
       "1    b\n",
       "2    c\n",
       "3    a\n",
       "4    c\n",
       "dtype: category\n",
       "Categories (3, object): ['a', 'b', 'c']"
      ]
     },
     "execution_count": 33,
     "metadata": {},
     "output_type": "execute_result"
    }
   ],
   "source": [
    "s12 = pd.Series(['a', 'b', 'c', 'a', 'c'], dtype='category')\n",
    "s12"
   ]
  },
  {
   "cell_type": "code",
   "execution_count": 34,
   "id": "a6f2ecb4",
   "metadata": {},
   "outputs": [
    {
     "data": {
      "text/plain": [
       "0       a\n",
       "1     NaN\n",
       "2       c\n",
       "3    None\n",
       "4       c\n",
       "dtype: object"
      ]
     },
     "execution_count": 34,
     "metadata": {},
     "output_type": "execute_result"
    }
   ],
   "source": [
    "s13 = pd.Series(['a', np.nan, 'c', None, 'c'])\n",
    "s13"
   ]
  },
  {
   "cell_type": "code",
   "execution_count": 35,
   "id": "8dd38a7b",
   "metadata": {},
   "outputs": [
    {
     "data": {
      "text/plain": [
       "0    0.081952\n",
       "1   -0.420363\n",
       "2   -0.018323\n",
       "3   -0.572142\n",
       "4    1.166966\n",
       "dtype: float64"
      ]
     },
     "execution_count": 35,
     "metadata": {},
     "output_type": "execute_result"
    }
   ],
   "source": [
    "s14 = pd.Series(np.random.randn(5))\n",
    "s14"
   ]
  },
  {
   "cell_type": "code",
   "execution_count": 38,
   "id": "5403faa9",
   "metadata": {},
   "outputs": [
    {
     "data": {
      "text/plain": [
       "a    1.225161\n",
       "b    0.376072\n",
       "c    0.338685\n",
       "d   -0.361600\n",
       "e    0.405085\n",
       "Name: random_values, dtype: float64"
      ]
     },
     "execution_count": 38,
     "metadata": {},
     "output_type": "execute_result"
    }
   ],
   "source": [
    "s15 = pd.Series(np.random.randn(5), index=['a', 'b', 'c', 'd', 'e'], name='random_values')\n",
    "s15"
   ]
  },
  {
   "cell_type": "code",
   "execution_count": 41,
   "id": "69f3c59f",
   "metadata": {},
   "outputs": [
    {
     "data": {
      "text/plain": [
       "0    Wills\n",
       "1     John\n",
       "2    Jesse\n",
       "dtype: object"
      ]
     },
     "execution_count": 41,
     "metadata": {},
     "output_type": "execute_result"
    }
   ],
   "source": [
    "names = ['Alice_Wills', 'Bob_John', 'Charlie_Jesse']\n",
    "s16 = pd.Series([ name.split('_')[1] for name in names])\n",
    "s16"
   ]
  },
  {
   "cell_type": "code",
   "execution_count": 42,
   "id": "9118ca73",
   "metadata": {},
   "outputs": [
    {
     "data": {
      "text/plain": [
       "0     1\n",
       "1     4\n",
       "2     9\n",
       "3    16\n",
       "4    25\n",
       "dtype: int64"
      ]
     },
     "execution_count": 42,
     "metadata": {},
     "output_type": "execute_result"
    }
   ],
   "source": [
    "def square(x):\n",
    "    return x * x\n",
    "\n",
    "s17 = pd.Series([1, 2, 3, 4, 5]).apply(square)\n",
    "s17"
   ]
  },
  {
   "cell_type": "code",
   "execution_count": 44,
   "id": "5cb7d7bd",
   "metadata": {},
   "outputs": [
    {
     "data": {
      "text/plain": [
       "a    1\n",
       "b    2\n",
       "c    3\n",
       "d    4\n",
       "e    5\n",
       "dtype: int64"
      ]
     },
     "execution_count": 44,
     "metadata": {},
     "output_type": "execute_result"
    }
   ],
   "source": [
    "data = {'a': 1, 'b': 2, 'c': 3, 'd': 4, 'e': 5}\n",
    "s18 = pd.Series(data)\n",
    "s18\n"
   ]
  },
  {
   "cell_type": "code",
   "execution_count": 45,
   "id": "514199ce",
   "metadata": {},
   "outputs": [
    {
     "data": {
      "text/plain": [
       "a    1.0\n",
       "b    2.0\n",
       "c    3.0\n",
       "d    4.0\n",
       "e    5.0\n",
       "f    NaN\n",
       "dtype: float64"
      ]
     },
     "execution_count": 45,
     "metadata": {},
     "output_type": "execute_result"
    }
   ],
   "source": [
    "data = {'a': 1, 'b': 2, 'c': 3, 'd': 4, 'e': 5}\n",
    "s19 = pd.Series(data).reindex(['a', 'b', 'c', 'd', 'e', 'f'])\n",
    "s19\n"
   ]
  },
  {
   "cell_type": "code",
   "execution_count": 46,
   "id": "2f34e106",
   "metadata": {},
   "outputs": [
    {
     "data": {
      "text/plain": [
       "a    1\n",
       "b    2\n",
       "c    3\n",
       "d    4\n",
       "e    5\n",
       "f    0\n",
       "dtype: int64"
      ]
     },
     "execution_count": 46,
     "metadata": {},
     "output_type": "execute_result"
    }
   ],
   "source": [
    "data = {'a': 1, 'b': 2, 'c': 3, 'd': 4, 'e': 5}\n",
    "s20 = pd.Series(data).reindex(['a', 'b', 'c', 'd', 'e', 'f'], fill_value=0)\n",
    "s20"
   ]
  },
  {
   "cell_type": "code",
   "execution_count": 48,
   "id": "b0e1d0f3",
   "metadata": {},
   "outputs": [
    {
     "data": {
      "text/plain": [
       "A  1    10\n",
       "B  1    20\n",
       "C  3    30\n",
       "dtype: int64"
      ]
     },
     "execution_count": 48,
     "metadata": {},
     "output_type": "execute_result"
    }
   ],
   "source": [
    "tuple_data = [('A', 1), ('B', 1), ('C', 3)]\n",
    "index = pd.MultiIndex.from_tuples(tuple_data)\n",
    "s21 = pd.Series([10, 20, 30], index=index)\n",
    "s21"
   ]
  },
  {
   "cell_type": "code",
   "execution_count": 49,
   "id": "86b91978",
   "metadata": {},
   "outputs": [
    {
     "data": {
      "text/plain": [
       "letter  number\n",
       "A       1         10\n",
       "B       1         20\n",
       "C       3         30\n",
       "dtype: int64"
      ]
     },
     "execution_count": 49,
     "metadata": {},
     "output_type": "execute_result"
    }
   ],
   "source": [
    "tuple_data = [('A', 1), ('B', 1), ('C', 3)]\n",
    "index = pd.MultiIndex.from_tuples(tuple_data, names=['letter', 'number'])\n",
    "s22 = pd.Series([10, 20, 30], index=index)\n",
    "s22"
   ]
  },
  {
   "cell_type": "code",
   "execution_count": null,
   "id": "259fd123",
   "metadata": {},
   "outputs": [],
   "source": []
  },
  {
   "cell_type": "code",
   "execution_count": null,
   "id": "2f8b230c",
   "metadata": {},
   "outputs": [],
   "source": []
  },
  {
   "cell_type": "code",
   "execution_count": null,
   "id": "eca3fd20",
   "metadata": {},
   "outputs": [],
   "source": []
  },
  {
   "cell_type": "code",
   "execution_count": null,
   "id": "af678e71",
   "metadata": {},
   "outputs": [],
   "source": []
  },
  {
   "cell_type": "code",
   "execution_count": null,
   "id": "667af44d",
   "metadata": {},
   "outputs": [],
   "source": []
  },
  {
   "cell_type": "code",
   "execution_count": null,
   "id": "5c5d0a77",
   "metadata": {},
   "outputs": [],
   "source": []
  },
  {
   "cell_type": "code",
   "execution_count": null,
   "id": "3c7cc10b",
   "metadata": {},
   "outputs": [],
   "source": []
  },
  {
   "cell_type": "code",
   "execution_count": null,
   "id": "d252fa6c",
   "metadata": {},
   "outputs": [],
   "source": []
  },
  {
   "cell_type": "code",
   "execution_count": null,
   "id": "5bf5c402",
   "metadata": {},
   "outputs": [],
   "source": []
  },
  {
   "cell_type": "code",
   "execution_count": null,
   "id": "1d97f0ed",
   "metadata": {},
   "outputs": [],
   "source": []
  },
  {
   "cell_type": "code",
   "execution_count": null,
   "id": "0641d044",
   "metadata": {},
   "outputs": [],
   "source": []
  },
  {
   "cell_type": "code",
   "execution_count": null,
   "id": "1dfa54ae",
   "metadata": {},
   "outputs": [],
   "source": []
  },
  {
   "cell_type": "markdown",
   "id": "f1edf61d",
   "metadata": {},
   "source": []
  }
 ],
 "metadata": {
  "kernelspec": {
   "display_name": ".venv",
   "language": "python",
   "name": "python3"
  },
  "language_info": {
   "codemirror_mode": {
    "name": "ipython",
    "version": 3
   },
   "file_extension": ".py",
   "mimetype": "text/x-python",
   "name": "python",
   "nbconvert_exporter": "python",
   "pygments_lexer": "ipython3",
   "version": "3.12.10"
  }
 },
 "nbformat": 4,
 "nbformat_minor": 5
}
