{
 "cells": [
  {
   "cell_type": "markdown",
   "id": "b27546d6-1213-4ee8-9919-55afe062be06",
   "metadata": {},
   "source": [
    "### 1. From Dictionary"
   ]
  },
  {
   "cell_type": "code",
   "execution_count": null,
   "id": "072bd31e-55ff-425a-a2ee-bef5475a8f87",
   "metadata": {},
   "outputs": [],
   "source": [
    "import pandas as pd\n",
    "\n",
    "data = {\n",
    "    'name': ['John', 'Anna', 'Peter'],\n",
    "    'age': [28, 22, 35],\n",
    "    'city': ['New York', 'Paris', 'London']\n",
    "}\n",
    "df = pd.DataFrame(data)\n",
    "df.head()"
   ]
  },
  {
   "cell_type": "markdown",
   "id": "9a99565c-a726-477e-a6d3-21eb71485720",
   "metadata": {},
   "source": [
    "### 2. From Lists"
   ]
  },
  {
   "cell_type": "code",
   "execution_count": null,
   "id": "f71d7121-f338-4de3-a3df-93569b139be1",
   "metadata": {},
   "outputs": [],
   "source": [
    "names = ['John', 'Anna', 'Peter']\n",
    "ages = [28, 22, 35]\n",
    "cities = ['New York', 'Paris', 'London']\n",
    "\n",
    "df = pd.DataFrame(list(zip(names, ages, cities)), \n",
    "                 columns=['name', 'age', 'city'])\n",
    "df.head()"
   ]
  },
  {
   "cell_type": "markdown",
   "id": "d4e99287-7481-460a-999a-52d63fca95a7",
   "metadata": {},
   "source": [
    "### 3. From CSV File"
   ]
  },
  {
   "cell_type": "code",
   "execution_count": null,
   "id": "b9960b54-50d4-4183-bcf8-4d8beb78ab36",
   "metadata": {},
   "outputs": [],
   "source": [
    "df = pd.read_csv('data.csv')\n",
    "df.head()"
   ]
  },
  {
   "cell_type": "markdown",
   "id": "ec49149f-4790-4396-9f5a-51ff9bff6614",
   "metadata": {},
   "source": [
    "### 4. From Excel File"
   ]
  },
  {
   "cell_type": "code",
   "execution_count": null,
   "id": "bbee2d9f-9d36-444e-bf79-8745daf8275a",
   "metadata": {},
   "outputs": [],
   "source": [
    "!pip install openpyxl\n",
    "import pandas as pd\n",
    "\n",
    "df = pd.read_excel('company.xlsm', sheet_name='employee')\n",
    "df.head()"
   ]
  },
  {
   "cell_type": "code",
   "execution_count": null,
   "id": "5f9f2f19-4f20-427b-9135-0fb0802ed34b",
   "metadata": {},
   "outputs": [],
   "source": [
    "import pandas as pd\n",
    "\n",
    "df = pd.read_excel('company.xlsm', sheet_name='sales')\n",
    "df.head()"
   ]
  },
  {
   "cell_type": "markdown",
   "id": "1e52e1ff-6268-414c-bab2-8d488bdd4111",
   "metadata": {},
   "source": [
    "### 5. From NumPy Array"
   ]
  },
  {
   "cell_type": "code",
   "execution_count": null,
   "id": "01e6e27a-61be-46d6-beeb-762e252ba005",
   "metadata": {},
   "outputs": [],
   "source": [
    "import numpy as np\n",
    "\n",
    "array = np.array([[1, 2, 3],\n",
    "                  [4, 5, 6],\n",
    "                  [7, 8, 9]])\n",
    "df = pd.DataFrame(array, columns=['A', 'B', 'C'])\n",
    "df.head()"
   ]
  },
  {
   "cell_type": "markdown",
   "id": "37a4bbc9-5f1b-48ae-9624-e885c4372b22",
   "metadata": {},
   "source": [
    "### 6. From List of Dictionaries"
   ]
  },
  {
   "cell_type": "code",
   "execution_count": null,
   "id": "d1007ee1-c648-4614-a3ff-b41e818c49de",
   "metadata": {},
   "outputs": [],
   "source": [
    "data = [\n",
    "    {'name': 'John', 'age': 28, 'city': 'New York'},\n",
    "    {'name': 'Anna', 'age': 22, 'city': 'Paris'},\n",
    "    {'name': 'Peter', 'age': 35, 'city': 'London'}\n",
    "]\n",
    "df = pd.DataFrame(data)\n",
    "df"
   ]
  },
  {
   "cell_type": "markdown",
   "id": "1854a3c6-efb8-46b1-920b-ce0556db9a41",
   "metadata": {},
   "source": [
    "### 7. From JSON"
   ]
  },
  {
   "cell_type": "code",
   "execution_count": null,
   "id": "adfa2986-6222-495d-aac8-16c75b776fcc",
   "metadata": {},
   "outputs": [],
   "source": [
    "df = pd.read_json('data.json')\n",
    "df"
   ]
  },
  {
   "cell_type": "markdown",
   "id": "4cfcca73-ea99-42a8-9adf-50b2caf19732",
   "metadata": {},
   "source": [
    "### 8. Empty DataFrame"
   ]
  },
  {
   "cell_type": "code",
   "execution_count": 14,
   "id": "3c467103-36d0-4493-b3d6-340a6fdba263",
   "metadata": {},
   "outputs": [
    {
     "data": {
      "text/html": [
       "<div>\n",
       "<style scoped>\n",
       "    .dataframe tbody tr th:only-of-type {\n",
       "        vertical-align: middle;\n",
       "    }\n",
       "\n",
       "    .dataframe tbody tr th {\n",
       "        vertical-align: top;\n",
       "    }\n",
       "\n",
       "    .dataframe thead th {\n",
       "        text-align: right;\n",
       "    }\n",
       "</style>\n",
       "<table border=\"1\" class=\"dataframe\">\n",
       "  <thead>\n",
       "    <tr style=\"text-align: right;\">\n",
       "      <th></th>\n",
       "      <th>name</th>\n",
       "      <th>age</th>\n",
       "      <th>city</th>\n",
       "    </tr>\n",
       "  </thead>\n",
       "  <tbody>\n",
       "  </tbody>\n",
       "</table>\n",
       "</div>"
      ],
      "text/plain": [
       "Empty DataFrame\n",
       "Columns: [name, age, city]\n",
       "Index: []"
      ]
     },
     "execution_count": 14,
     "metadata": {},
     "output_type": "execute_result"
    }
   ],
   "source": [
    "df = pd.DataFrame(columns=['name', 'age', 'city'])\n",
    "df"
   ]
  },
  {
   "cell_type": "markdown",
   "id": "bd969e89-a706-4060-896e-c8f2eeae66a9",
   "metadata": {},
   "source": [
    "### 9. From Pandas Series"
   ]
  },
  {
   "cell_type": "code",
   "execution_count": 15,
   "id": "c6e0ceba-f48f-4251-af9f-c822f6b5f4ad",
   "metadata": {},
   "outputs": [
    {
     "data": {
      "text/html": [
       "<div>\n",
       "<style scoped>\n",
       "    .dataframe tbody tr th:only-of-type {\n",
       "        vertical-align: middle;\n",
       "    }\n",
       "\n",
       "    .dataframe tbody tr th {\n",
       "        vertical-align: top;\n",
       "    }\n",
       "\n",
       "    .dataframe thead th {\n",
       "        text-align: right;\n",
       "    }\n",
       "</style>\n",
       "<table border=\"1\" class=\"dataframe\">\n",
       "  <thead>\n",
       "    <tr style=\"text-align: right;\">\n",
       "      <th></th>\n",
       "      <th>name</th>\n",
       "      <th>age</th>\n",
       "      <th>city</th>\n",
       "    </tr>\n",
       "  </thead>\n",
       "  <tbody>\n",
       "    <tr>\n",
       "      <th>0</th>\n",
       "      <td>John</td>\n",
       "      <td>28</td>\n",
       "      <td>New York</td>\n",
       "    </tr>\n",
       "    <tr>\n",
       "      <th>1</th>\n",
       "      <td>Anna</td>\n",
       "      <td>22</td>\n",
       "      <td>Paris</td>\n",
       "    </tr>\n",
       "    <tr>\n",
       "      <th>2</th>\n",
       "      <td>Peter</td>\n",
       "      <td>35</td>\n",
       "      <td>London</td>\n",
       "    </tr>\n",
       "  </tbody>\n",
       "</table>\n",
       "</div>"
      ],
      "text/plain": [
       "    name  age      city\n",
       "0   John   28  New York\n",
       "1   Anna   22     Paris\n",
       "2  Peter   35    London"
      ]
     },
     "execution_count": 15,
     "metadata": {},
     "output_type": "execute_result"
    }
   ],
   "source": [
    "data = {\n",
    "    'name': pd.Series(['John', 'Anna', 'Peter']),\n",
    "    'age': pd.Series([28, 22, 35]),\n",
    "    'city': pd.Series(['New York', 'Paris', 'London'])\n",
    "}\n",
    "df = pd.DataFrame(data)\n",
    "df"
   ]
  },
  {
   "cell_type": "code",
   "execution_count": null,
   "id": "a9e8d36a-3fec-4ff0-8af7-f6e2a6561a80",
   "metadata": {},
   "outputs": [],
   "source": []
  }
 ],
 "metadata": {
  "kernelspec": {
   "display_name": "Python 3 (ipykernel)",
   "language": "python",
   "name": "python3"
  },
  "language_info": {
   "codemirror_mode": {
    "name": "ipython",
    "version": 3
   },
   "file_extension": ".py",
   "mimetype": "text/x-python",
   "name": "python",
   "nbconvert_exporter": "python",
   "pygments_lexer": "ipython3",
   "version": "3.12.3"
  }
 },
 "nbformat": 4,
 "nbformat_minor": 5
}
